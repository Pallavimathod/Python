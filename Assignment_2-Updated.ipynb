{
 "cells": [
  {
   "cell_type": "code",
   "execution_count": 1,
   "id": "10da8660",
   "metadata": {},
   "outputs": [
    {
     "name": "stdout",
     "output_type": "stream",
     "text": [
      "False\n",
      "True\n",
      "False\n",
      "True\n",
      "False\n",
      "True\n",
      "False\n"
     ]
    }
   ],
   "source": [
    "\n",
    "# Question 1 ,2 & 3 - True & False\n",
    "\n",
    "a=10\n",
    "b=9\n",
    "c= a+b\n",
    "d=a-b\n",
    "e=a*b\n",
    "f=b/a\n",
    "print(a==b)\n",
    "print(a>b)\n",
    "print(a<b)\n",
    "print(c==19)\n",
    "print(d==2)\n",
    "print(e==90)\n",
    "print(f==3)"
   ]
  },
  {
   "cell_type": "code",
   "execution_count": 2,
   "id": "e8161b7d",
   "metadata": {},
   "outputs": [
    {
     "name": "stdout",
     "output_type": "stream",
     "text": [
      "False\n",
      "False\n",
      "True\n",
      "False\n",
      "True\n",
      "True\n"
     ]
    }
   ],
   "source": [
    "# Question - 4\n",
    "a=3\n",
    "b=5\n",
    "c=4\n",
    "print(b>c and a==b )\n",
    "print (not(b>c))\n",
    "print(b>c or a==b)\n",
    "print(not(5>4 or 3==5))\n",
    "print(True and True)and(True==False)\n",
    "print(not False or not True)\n"
   ]
  },
  {
   "cell_type": "raw",
   "id": "f4ce5291",
   "metadata": {},
   "source": [
    "# Question - 5\n",
    "\n",
    "<, >, ==, and , or, not"
   ]
  },
  {
   "cell_type": "raw",
   "id": "c76804d5",
   "metadata": {},
   "source": [
    "# Question - 6\n",
    "\n",
    "1)== is used for comparission of 2 values\n",
    "\n",
    "2)a=1\n",
    "assigning the value of \"1\" to variable a (this mean while execution value of 1 is allocated to \"a\" variable)\n"
   ]
  },
  {
   "cell_type": "code",
   "execution_count": 3,
   "id": "25d076ed",
   "metadata": {},
   "outputs": [
    {
     "name": "stdout",
     "output_type": "stream",
     "text": [
      "ham\n",
      "spam\n",
      "spam\n"
     ]
    }
   ],
   "source": [
    "# Question 7 --> indented block\n",
    "\n",
    "spam = 0\n",
    "if spam == 10:\n",
    "    print('eggs')\n",
    "if spam > 5:\n",
    "     print('bacon')\n",
    "else:\n",
    "    print('ham')\n",
    "    print('spam')\n",
    "    print('spam')"
   ]
  },
  {
   "cell_type": "code",
   "execution_count": 4,
   "id": "5828632b",
   "metadata": {},
   "outputs": [
    {
     "name": "stdout",
     "output_type": "stream",
     "text": [
      "Greetings!\n"
     ]
    }
   ],
   "source": [
    "# Question 8 \n",
    "\n",
    "spam =3\n",
    "if spam ==1:\n",
    "    print(\"hello\")\n",
    "    \n",
    "elif spam ==2:    \n",
    "    print(\"howdy\")\n",
    "    \n",
    "else:\n",
    "    print(\"Greetings!\")\n",
    "    "
   ]
  },
  {
   "cell_type": "raw",
   "id": "7f41391d",
   "metadata": {},
   "source": [
    "# Question 9\n",
    "\n",
    "# Keyboard interrupt - Pressing Control + C Keys , when the Program is running."
   ]
  },
  {
   "cell_type": "raw",
   "id": "2769f956",
   "metadata": {},
   "source": [
    "Question 10\n",
    "\n",
    "Break statement stops the entire process of the loop. where as Continue statement only stops the current iteration of the loop \n",
    "proceeds with next iteration of the loop."
   ]
  },
  {
   "cell_type": "raw",
   "id": "dd99ba22",
   "metadata": {},
   "source": [
    "Question 11\n",
    "\n",
    "Range 10 - Return the value of starting from  0 and increments by 1 and ends at the specified number.\n",
    "Range (0,10) - defining the starting value by adding parameter which means value from 0 -10(but not including value 10). \n",
    "Range(0,10,1) - the Third parameter here is related to increment value, we can define/specify the incrementvalue.    \n"
   ]
  },
  {
   "cell_type": "code",
   "execution_count": 5,
   "id": "6012fbcf",
   "metadata": {},
   "outputs": [
    {
     "name": "stdout",
     "output_type": "stream",
     "text": [
      "0\n",
      "1\n",
      "2\n",
      "3\n",
      "4\n",
      "5\n",
      "6\n",
      "7\n",
      "8\n",
      "9\n"
     ]
    }
   ],
   "source": [
    " #Question 12 \n",
    "i = 0\n",
    "while i < 10:\n",
    "    print(i)\n",
    "    i += 1"
   ]
  },
  {
   "cell_type": "raw",
   "id": "dae79160",
   "metadata": {},
   "source": [
    " Question 13\n",
    "This function can be called with spam. bacon()."
   ]
  }
 ],
 "metadata": {
  "kernelspec": {
   "display_name": "Python 3 (ipykernel)",
   "language": "python",
   "name": "python3"
  },
  "language_info": {
   "codemirror_mode": {
    "name": "ipython",
    "version": 3
   },
   "file_extension": ".py",
   "mimetype": "text/x-python",
   "name": "python",
   "nbconvert_exporter": "python",
   "pygments_lexer": "ipython3",
   "version": "3.11.5"
  }
 },
 "nbformat": 4,
 "nbformat_minor": 5
}
