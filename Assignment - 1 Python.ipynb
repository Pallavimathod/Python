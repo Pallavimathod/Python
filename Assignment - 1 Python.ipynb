{
 "cells": [
  {
   "cell_type": "raw",
   "id": "d617a28b",
   "metadata": {},
   "source": [
    "# Assignment 1"
   ]
  },
  {
   "cell_type": "raw",
   "id": "8931ba3d",
   "metadata": {},
   "source": [
    "1) * -> multiply (mathematical operators)\n",
    "   'hello --> String Value\n",
    "   -87.8  --> float Value\n",
    "    -     --> Sub operator\n",
    "    /    --> divide operator\n",
    "    +    --> Add operator\n",
    "    6    --> int Value  \n",
    "    "
   ]
  },
  {
   "cell_type": "raw",
   "id": "0c26cb13",
   "metadata": {},
   "source": [
    "2) Difference between String and Variable are \n",
    "\n",
    "Variable --> Value that holds the Assigned Data type.\n",
    "\n",
    "String --> Data type , which accepts values in words, sentences or Char."
   ]
  },
  {
   "cell_type": "raw",
   "id": "ae499224",
   "metadata": {},
   "source": [
    "3) Threee different data types are \n",
    "\n",
    "1) integer - int\n",
    "2) float \n",
    "3) String"
   ]
  },
  {
   "cell_type": "raw",
   "id": "1e5cddad",
   "metadata": {},
   "source": [
    "4) Expression is combination of Values, Variables and Data types(operators and operands) , which is used to perform some operation.\n"
   ]
  },
  {
   "cell_type": "raw",
   "id": "08b4ff8c",
   "metadata": {},
   "source": [
    "5) Expression is execution of the written Values.\n",
    "   Statement is declartion of the value to Variable."
   ]
  },
  {
   "cell_type": "code",
   "execution_count": 3,
   "id": "22a75483",
   "metadata": {},
   "outputs": [
    {
     "name": "stdout",
     "output_type": "stream",
     "text": [
      "22\n"
     ]
    }
   ],
   "source": [
    "bacon = 22\n",
    "bacon + 1\n",
    "print(bacon)\n"
   ]
  },
  {
   "cell_type": "code",
   "execution_count": 8,
   "id": "f772ce33",
   "metadata": {},
   "outputs": [
    {
     "name": "stdout",
     "output_type": "stream",
     "text": [
      "spamspamspam\n",
      "spamspamspam\n"
     ]
    }
   ],
   "source": [
    "term = 'spam'+'spamspam'\n",
    "print(term)\n",
    "\n",
    "term *3\n",
    "print(term)"
   ]
  },
  {
   "cell_type": "raw",
   "id": "1d31adb6",
   "metadata": {},
   "source": [
    "Varible names should always start with letters or _ & not with numeric value hence \"egg\" is valid one and \"100\" is invalid Variable name.\n",
    " "
   ]
  },
  {
   "cell_type": "raw",
   "id": "fc22e845",
   "metadata": {},
   "source": [
    "int()\n",
    "float()\n",
    "string()\n"
   ]
  },
  {
   "cell_type": "raw",
   "id": "8deda870",
   "metadata": {},
   "source": [
    "a= 'I have eaten'+ \"99\" +'burritos.'\n",
    "print(a) ---> Correction \n",
    "\n",
    "we cannot concatenate int value in string without \" \""
   ]
  }
 ],
 "metadata": {
  "kernelspec": {
   "display_name": "Python 3 (ipykernel)",
   "language": "python",
   "name": "python3"
  },
  "language_info": {
   "codemirror_mode": {
    "name": "ipython",
    "version": 3
   },
   "file_extension": ".py",
   "mimetype": "text/x-python",
   "name": "python",
   "nbconvert_exporter": "python",
   "pygments_lexer": "ipython3",
   "version": "3.10.9"
  }
 },
 "nbformat": 4,
 "nbformat_minor": 5
}
